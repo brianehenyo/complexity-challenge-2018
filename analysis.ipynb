{
  "cells": [
    {
      "cell_type": "code",
      "source": [
        "import pandas as pd\n",
        "import numpy as np\n",
        "import matplotlib.pyplot as plt\n",
        "from matplotlib.pyplot import cm\n",
        "\n",
        "runID = '123-2213'\n",
        "expruns = pd.read_json('experiments/runs_' + runID + '.json', orient='records')\n",
        "exp_settings = pd.read_json('experiments/experiments_' + runID + '.json', orient='records')"
      ],
      "outputs": [],
      "execution_count": 77,
      "metadata": {
        "collapsed": false,
        "outputHidden": false,
        "inputHidden": false
      }
    },
    {
      "cell_type": "code",
      "source": [
        "exp_config = exp_settings.query('exp_num == 2 and rep == 0')['n_per_strat'].to_dict()[5]\n",
        "exp_config\n",
        "# for key in exp_config.keys():\n",
        "#     if exp_config[key] > 0:\n",
        "#         print(key)"
      ],
      "outputs": [
        {
          "output_type": "execute_result",
          "execution_count": 100,
          "data": {
            "text/plain": [
              "{'alwaysnew': 0,\n",
              " 'bandwagon': 0,\n",
              " 'frost': 0,\n",
              " 'highroller': 0,\n",
              " 'opportunistic': 0,\n",
              " 'random': 0,\n",
              " 'safe': 0,\n",
              " 'stable': 0,\n",
              " 'sticky': 100}"
            ]
          },
          "metadata": {}
        }
      ],
      "execution_count": 100,
      "metadata": {
        "collapsed": false,
        "outputHidden": false,
        "inputHidden": false
      }
    },
    {
      "cell_type": "code",
      "source": [
        "expruns.query('exp_num == 2 and timestep == 0')['total_wealth'].tolist()"
      ],
      "outputs": [
        {
          "output_type": "execute_result",
          "execution_count": 25,
          "data": {
            "text/plain": [
              "[111, 70, 40, 71, 74]"
            ]
          },
          "metadata": {}
        }
      ],
      "execution_count": 25,
      "metadata": {
        "collapsed": false,
        "outputHidden": false,
        "inputHidden": false
      }
    },
    {
      "cell_type": "code",
      "source": [
        "ave_wealth = pd.pivot_table(expruns.query('exp_num == 2'), index=[\"exp_num\", \"timestep\"], values=[\"total_wealth\"], aggfunc=np.mean)\n",
        "ave_wealth[\"total_wealth\"].tolist()"
      ],
      "outputs": [
        {
          "output_type": "execute_result",
          "execution_count": 28,
          "data": {
            "text/plain": [
              "[73.2,\n",
              " 171.0,\n",
              " 252.8,\n",
              " 310.6,\n",
              " 384.4,\n",
              " 466.2,\n",
              " 556.0,\n",
              " 629.8,\n",
              " 671.6,\n",
              " 753.4,\n",
              " 819.2,\n",
              " 900.8,\n",
              " 974.6,\n",
              " 1040.4,\n",
              " 1106.2,\n",
              " 1204.0,\n",
              " 1293.8,\n",
              " 1407.4,\n",
              " 1489.2,\n",
              " 1547.0,\n",
              " 1612.8,\n",
              " 1718.6,\n",
              " 1784.4,\n",
              " 1842.2,\n",
              " 1931.8,\n",
              " 2013.6,\n",
              " 2087.4,\n",
              " 2145.2,\n",
              " 2227.0,\n",
              " 2300.8,\n",
              " 2350.6,\n",
              " 2448.4,\n",
              " 2514.2,\n",
              " 2604.0,\n",
              " 2669.8,\n",
              " 2735.6,\n",
              " 2809.4,\n",
              " 2867.2,\n",
              " 2932.6,\n",
              " 2982.4,\n",
              " 3056.0,\n",
              " 3161.8,\n",
              " 3267.6,\n",
              " 3349.4,\n",
              " 3439.2,\n",
              " 3513.0,\n",
              " 3570.8,\n",
              " 3660.6,\n",
              " 3742.4,\n",
              " 3840.0,\n",
              " 3937.8,\n",
              " 4003.6,\n",
              " 4061.4,\n",
              " 4111.2,\n",
              " 4177.0,\n",
              " 4266.8,\n",
              " 4348.6,\n",
              " 4390.4,\n",
              " 4456.2,\n",
              " 4522.0,\n",
              " 4563.8,\n",
              " 4645.6,\n",
              " 4743.0,\n",
              " 4808.8,\n",
              " 4874.6,\n",
              " 4940.4,\n",
              " 5014.2,\n",
              " 5096.0,\n",
              " 5153.8,\n",
              " 5211.4,\n",
              " 5293.2,\n",
              " 5367.0,\n",
              " 5440.8,\n",
              " 5498.4,\n",
              " 5540.2,\n",
              " 5598.0,\n",
              " 5664.0,\n",
              " 5737.8,\n",
              " 5803.6,\n",
              " 5893.4,\n",
              " 5983.2,\n",
              " 6073.0,\n",
              " 6114.8,\n",
              " 6180.6,\n",
              " 6254.2,\n",
              " 6327.8,\n",
              " 6385.6,\n",
              " 6459.4,\n",
              " 6541.2,\n",
              " 6623.0,\n",
              " 6696.8,\n",
              " 6778.6,\n",
              " 6812.4,\n",
              " 6886.2,\n",
              " 6976.0,\n",
              " 7049.8,\n",
              " 7139.6,\n",
              " 7229.2,\n",
              " 7279.0,\n",
              " 7328.6]"
            ]
          },
          "metadata": {}
        }
      ],
      "execution_count": 28,
      "metadata": {
        "collapsed": false,
        "outputHidden": false,
        "inputHidden": false
      }
    },
    {
      "cell_type": "code",
      "source": [
        "timesteps = list(range(0, 100))\n",
        "max_exps = expruns['exp_num'].max()\n",
        "exp_color=iter(cm.rainbow(np.linspace(0,1,max_exps)))\n",
        "\n",
        "fig, ax = plt.subplots(1, 1, figsize=(20, 50))\n",
        "\n",
        "ax.spines['top'].set_visible(False)\n",
        "ax.spines['bottom'].set_visible(False)\n",
        "ax.spines['right'].set_visible(False)\n",
        "ax.spines['left'].set_visible(False)\n",
        "\n",
        "# fig.subplots_adjust(left=.06, right=.75, bottom=.02, top=.94)\n",
        "ax.set_xlim(0, 100.1)\n",
        "ax.set_ylim(-0.25, expruns['total_wealth'].max())\n",
        "\n",
        "plt.xticks(range(0, max_exps, 10), fontsize=12)\n",
        "plt.yticks(range(0, expruns['total_wealth'].max(), 1000), fontsize=12)\n",
        "\n",
        "ax.xaxis.set_major_formatter(plt.FuncFormatter('{:.0f}'.format))\n",
        "ax.yaxis.set_major_formatter(plt.FuncFormatter('{:.0f}'.format))\n",
        "\n",
        "plt.grid(True, 'major', 'y', ls='--', lw=.5, c='k', alpha=.3)\n",
        "\n",
        "plt.tick_params(axis='both', which='both', bottom=False, top=False,\n",
        "                labelbottom=True, left=False, right=False, labelleft=True)\n",
        "\n",
        "for i in range(1, max_exps+1):\n",
        "    c = next(exp_color)\n",
        "    agents_here = \"\"\n",
        "    exp_config = exp_settings.query('exp_num == ' + str(i) + ' and rep == 0')['n_per_strat'].to_dict()[(i-1)*5]\n",
        "    for key in exp_config.keys():\n",
        "        if exp_config[key] > 0:\n",
        "            agents_here += key + \"_\"\n",
        "    ave_wealth = pd.pivot_table(expruns.query('exp_num == ' + str(i)), index=[\"exp_num\", \"timestep\"], values=[\"total_wealth\"], aggfunc=np.mean)\n",
        "    data = ave_wealth[\"total_wealth\"].tolist()\n",
        "    plt.plot(timesteps, data, color=c)\n",
        "    plt.text(100.1, data[len(data)-1] - 1, agents_here, fontsize=12, color=c)\n",
        "    \n",
        "plt.xlabel('Timesteps', fontsize=14)\n",
        "plt.ylabel('Total Wealth', fontsize=14)\n",
        "plt.title('Experiment Runs', fontsize=14, ha='center')\n",
        "# plt.show()\n",
        "plt.savefig('outputs/total_wealth_' + runID + '.png', bbox_inches=\"tight\", dpi=500)\n",
        "plt.close()"
      ],
      "outputs": [],
      "execution_count": 105,
      "metadata": {
        "collapsed": false,
        "outputHidden": false,
        "inputHidden": false
      }
    }
  ],
  "metadata": {
    "kernel_info": {
      "name": "python3"
    },
    "language_info": {
      "name": "python",
      "version": "3.6.6",
      "mimetype": "text/x-python",
      "codemirror_mode": {
        "name": "ipython",
        "version": 3
      },
      "pygments_lexer": "ipython3",
      "nbconvert_exporter": "python",
      "file_extension": ".py"
    },
    "kernelspec": {
      "name": "python3",
      "language": "python",
      "display_name": "Python 3"
    },
    "nteract": {
      "version": "0.12.3"
    }
  },
  "nbformat": 4,
  "nbformat_minor": 4
}