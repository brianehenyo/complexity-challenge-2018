{
  "cells": [
    {
      "cell_type": "code",
      "source": [
        "import pandas as pd\n",
        "import numpy as np\n",
        "import matplotlib.pyplot as plt\n",
        "from matplotlib.pyplot import cm\n",
        "import os.path\n",
        "\n",
        "runID = '6combi_equal-dist'\n",
        "expruns = pd.read_json('experiments/runs_' + runID + '.json', orient='records')\n",
        "exp_settings = pd.read_json('experiments/experiments_' + runID + '.json', orient='records')"
      ],
      "outputs": [],
      "execution_count": 33,
      "metadata": {
        "collapsed": false,
        "outputHidden": false,
        "inputHidden": false
      }
    },
    {
      "cell_type": "code",
      "source": [
        "exp_config = exp_settings.query('exp_num == 2 and rep == 0')['n_per_strat'].to_dict()\n",
        "print(expruns['exp_num'].max())\n",
        "exp_config\n",
        "# for key in exp_config.keys():\n",
        "#     if exp_config[key] > 0:\n",
        "#         print(key)\n",
        "\n",
        "# 1combi - 1-9\n",
        "# 2combi - 10-45\n",
        "# 3combi - 1-84"
      ],
      "outputs": [
        {
          "output_type": "stream",
          "name": "stdout",
          "text": [
            "45\n"
          ]
        },
        {
          "output_type": "execute_result",
          "execution_count": 2,
          "data": {
            "text/plain": [
              "{5: {'alwaysnew': 0,\n",
              "  'bandwagon': 0,\n",
              "  'frost': 0,\n",
              "  'highroller': 0,\n",
              "  'opportunistic': 0,\n",
              "  'random': 0,\n",
              "  'safe': 0,\n",
              "  'stable': 0,\n",
              "  'sticky': 100}}"
            ]
          },
          "metadata": {}
        }
      ],
      "execution_count": 2,
      "metadata": {
        "collapsed": false,
        "outputHidden": false,
        "inputHidden": false
      }
    },
    {
      "cell_type": "code",
      "source": [
        "expruns.query('exp_num == 2 and timestep == 0')['total_wealth'].tolist()"
      ],
      "outputs": [
        {
          "output_type": "execute_result",
          "execution_count": 43,
          "data": {
            "text/plain": [
              "[111, 70, 40, 71, 74, 176, 56, 100, 91, 101]"
            ]
          },
          "metadata": {}
        }
      ],
      "execution_count": 43,
      "metadata": {
        "collapsed": false,
        "outputHidden": false,
        "inputHidden": false
      }
    },
    {
      "cell_type": "code",
      "source": [
        "ave_wealth = pd.pivot_table(expruns.query('exp_num == 2'), index=[\"exp_num\", \"timestep\"], values=[\"total_wealth\"], aggfunc=np.mean)\n",
        "ave_wealth[\"total_wealth\"].tolist()[99]\n",
        "# ave_wealth"
      ],
      "outputs": [
        {
          "output_type": "execute_result",
          "execution_count": 49,
          "data": {
            "text/plain": [
              "7328.6"
            ]
          },
          "metadata": {}
        }
      ],
      "execution_count": 49,
      "metadata": {
        "collapsed": false,
        "outputHidden": false,
        "inputHidden": false
      }
    },
    {
      "cell_type": "code",
      "source": [
        "def plotLineG(combi):\n",
        "    timesteps = list(range(0, 100))\n",
        "    max_exps = expruns['exp_num'].max()\n",
        "    exp_color=iter(cm.rainbow(np.linspace(0,1,max_exps)))\n",
        "\n",
        "    fig, ax = plt.subplots(1, 1, figsize=(20, 20))\n",
        "\n",
        "    ax.spines['top'].set_visible(False)\n",
        "    ax.spines['bottom'].set_visible(False)\n",
        "    ax.spines['right'].set_visible(False)\n",
        "    ax.spines['left'].set_visible(False)\n",
        "\n",
        "    # fig.subplots_adjust(left=.06, right=.75, bottom=.02, top=.94)\n",
        "    ax.set_xlim(0, 100.1)\n",
        "    ax.set_ylim(-0.25, expruns['total_wealth'].max())\n",
        "\n",
        "    plt.xticks(range(0, 100, 10), fontsize=12)\n",
        "    plt.yticks(range(0, expruns['total_wealth'].max(), 1000), fontsize=12)\n",
        "\n",
        "    ax.xaxis.set_major_formatter(plt.FuncFormatter('{:.0f}'.format))\n",
        "    ax.yaxis.set_major_formatter(plt.FuncFormatter('{:.0f}'.format))\n",
        "\n",
        "    plt.grid(True, 'major', 'y', ls='--', lw=.5, c='k', alpha=.3)\n",
        "\n",
        "    plt.tick_params(axis='both', which='both', bottom=False, top=False,\n",
        "                    labelbottom=True, left=False, right=False, labelleft=True)\n",
        "\n",
        "    for i in range(1, max_exps+1):\n",
        "        c = next(exp_color)\n",
        "        agents_here = \"\"\n",
        "        exp_config = exp_settings.query('exp_num == ' + str(i) + ' and rep == 0')['n_per_strat'].to_dict()[(i-1)*5]\n",
        "        num_agents = 0\n",
        "        for key in exp_config.keys():\n",
        "            if exp_config[key] > 0:\n",
        "                agents_here += key + \"_\"\n",
        "                num_agents += 1\n",
        "\n",
        "        if num_agents == combi:\n",
        "            ave_wealth = pd.pivot_table(expruns.query('exp_num == ' + str(i)), index=[\"exp_num\", \"timestep\"], values=[\"total_wealth\"], aggfunc=np.mean)\n",
        "            data = ave_wealth[\"total_wealth\"].tolist()\n",
        "            plt.plot(timesteps, data, color=c, linewidth=4.0)\n",
        "            plt.text(100.1, data[len(data)-1] - 1, agents_here, fontsize=12, color=c)\n",
        "\n",
        "    plt.xlabel('Timesteps', fontsize=14)\n",
        "    plt.ylabel('Total Wealth', fontsize=14)\n",
        "    plt.title('Experiment Runs', fontsize=14, ha='center')\n",
        "#     plt.show()\n",
        "    plt.savefig('outputs/total_wealth_' + str(combi) + '-combi.png', bbox_inches=\"tight\", dpi=150)\n",
        "    plt.close()"
      ],
      "outputs": [],
      "execution_count": 23,
      "metadata": {
        "collapsed": false,
        "outputHidden": false,
        "inputHidden": false
      }
    },
    {
      "cell_type": "code",
      "source": [
        "# plotLineG(1)\n",
        "# plotLineG(2)\n",
        "# plotLineG(3)\n",
        "# plotLineG(4)\n",
        "# plotLineG(5)\n",
        "plotLineG(6)\n",
        "# plotLineG(7)\n",
        "# plotLineG(8)\n",
        "# plotLineG(9)"
      ],
      "outputs": [],
      "execution_count": 34,
      "metadata": {
        "collapsed": false,
        "outputHidden": false,
        "inputHidden": false
      }
    },
    {
      "cell_type": "code",
      "source": [
        "def plotLineAgent(agent):\n",
        "    timesteps = list(range(0, 100))\n",
        "    max_exps = expruns['exp_num'].max()\n",
        "    exp_color=iter(cm.rainbow(np.linspace(0,1,max_exps)))\n",
        "\n",
        "    fig, ax = plt.subplots(1, 1, figsize=(20, 50))\n",
        "\n",
        "    ax.spines['top'].set_visible(False)\n",
        "    ax.spines['bottom'].set_visible(False)\n",
        "    ax.spines['right'].set_visible(False)\n",
        "    ax.spines['left'].set_visible(False)\n",
        "\n",
        "    # fig.subplots_adjust(left=.06, right=.75, bottom=.02, top=.94)\n",
        "    ax.set_xlim(0, 100.1)\n",
        "    ax.set_ylim(-0.25, expruns['total_wealth'].max())\n",
        "\n",
        "    plt.xticks(range(0, 100, 10), fontsize=12)\n",
        "    plt.yticks(range(0, expruns['total_wealth'].max(), 1000), fontsize=12)\n",
        "\n",
        "    ax.xaxis.set_major_formatter(plt.FuncFormatter('{:.0f}'.format))\n",
        "    ax.yaxis.set_major_formatter(plt.FuncFormatter('{:.0f}'.format))\n",
        "\n",
        "    plt.grid(True, 'major', 'y', ls='--', lw=.5, c='k', alpha=.3)\n",
        "\n",
        "    plt.tick_params(axis='both', which='both', bottom=False, top=False,\n",
        "                    labelbottom=True, left=False, right=False, labelleft=True)\n",
        "\n",
        "    for i in range(1, max_exps+1):\n",
        "        c = next(exp_color)\n",
        "        agents_here = \"\"\n",
        "        exp_config = exp_settings.query('exp_num == ' + str(i) + ' and rep == 0')['n_per_strat'].to_dict()[(i-1)*5]\n",
        "        isAgentThere = False\n",
        "        for key in exp_config.keys():\n",
        "            if exp_config[key] > 0:\n",
        "                agents_here += key + \"_\"\n",
        "                if str(agent) == str(key):\n",
        "                    isAgentThere = True\n",
        "\n",
        "        if isAgentThere == True:\n",
        "            ave_wealth = pd.pivot_table(expruns.query('exp_num == ' + str(i)), index=[\"exp_num\", \"timestep\"], values=[\"total_wealth\"], aggfunc=np.mean)\n",
        "            data = ave_wealth[\"total_wealth\"].tolist()\n",
        "            plt.plot(timesteps, data, color=c, linewidth=4.0)\n",
        "            plt.text(100.1, data[len(data)-1] - 1, agents_here, fontsize=12, color=c)\n",
        "\n",
        "    plt.xlabel('Timesteps', fontsize=14)\n",
        "    plt.ylabel('Total Wealth', fontsize=14)\n",
        "    plt.title('Experiment Runs', fontsize=14, ha='center')\n",
        "    # plt.show()\n",
        "    plt.savefig('outputs/total_wealth_' + str(agent) + '.png', bbox_inches=\"tight\", dpi=500)\n",
        "    plt.close()"
      ],
      "outputs": [],
      "execution_count": 3,
      "metadata": {
        "collapsed": false,
        "outputHidden": false,
        "inputHidden": false
      }
    },
    {
      "cell_type": "code",
      "source": [
        "runID = '1-2combi_equal-dist'\n",
        "expruns = pd.read_json('experiments/runs_' + runID + '.json', orient='records')\n",
        "exp_settings = pd.read_json('experiments/experiments_' + runID + '.json', orient='records')\n",
        "print(len(expruns))\n",
        "print(len(exp_settings))\n",
        "\n",
        "runIDs = ['3combi_equal-dist']#, '4combi_equal-dist', '5combi_equal-dist', '6combi_equal-dist', '7-9combi_equal-dist']\n",
        "for r in runIDs:\n",
        "    print(r)\n",
        "#     temprunsdf = pd.read_json('experiments/runs_' + r + '.json', orient='records')\n",
        "#     print(len(temprunsdf))\n",
        "    expruns = expruns.append(pd.read_json('experiments/runs_' + r + '.json', orient='records'), ignore_index=True)\n",
        "    exp_settings = exp_settings.append(pd.read_json('experiments/experiments_' + r + '.json', orient='records'), ignore_index=True)\n",
        "    print(len(expruns))\n",
        "    print(len(exp_settings))\n",
        "    \n",
        "\n\n",
        "# agentTypes = ['alwaysnew']#, 'bandwagon', 'frost', 'highroller', 'opportunistic', 'random', 'safe', 'stable', 'sticky']\n",
        "# for at in agentTypes:\n",
        "#     plotLineAgent(at)"
      ],
      "outputs": [
        {
          "output_type": "stream",
          "name": "stdout",
          "text": [
            "22500\n",
            "225\n",
            "3combi_equal-dist\n",
            "64500\n",
            "645\n"
          ]
        }
      ],
      "execution_count": 35,
      "metadata": {
        "collapsed": false,
        "outputHidden": false,
        "inputHidden": false
      }
    },
    {
      "cell_type": "code",
      "source": [
        "max_exps = expruns['exp_num'].max()\n",
        "\n",
        "path = 'outputs/finalValues.csv'\n",
        "out = open(path, 'a+')\n",
        "out.write(\"combination,total\\n\")\n",
        "\n",
        "for i in range(1, max_exps+1):\n",
        "    agents_here = \"\"\n",
        "    exp_config = exp_settings.query('exp_num == ' + str(i) + ' and rep == 0')['n_per_strat'].to_dict()[(i-1)*5]\n",
        "    num_agents = 0\n",
        "    for key in exp_config.keys():\n",
        "        if exp_config[key] > 0:\n",
        "            agents_here += key + \"_\"\n",
        "            num_agents += 1\n",
        "\n",
        "    ave_wealth = pd.pivot_table(expruns.query('exp_num == ' + str(i)), index=[\"exp_num\", \"timestep\"], values=[\"total_wealth\"], aggfunc=np.mean)\n",
        "    data = ave_wealth[\"total_wealth\"].tolist()\n",
        "    out.write(agents_here[:-1] + \",\" + str(data[99]) + \"\\n\")\n",
        "\nout.close()"
      ],
      "outputs": [],
      "execution_count": 70,
      "metadata": {
        "collapsed": false,
        "outputHidden": false,
        "inputHidden": false
      }
    }
  ],
  "metadata": {
    "kernel_info": {
      "name": "python3"
    },
    "language_info": {
      "name": "python",
      "version": "3.6.6",
      "mimetype": "text/x-python",
      "codemirror_mode": {
        "name": "ipython",
        "version": 3
      },
      "pygments_lexer": "ipython3",
      "nbconvert_exporter": "python",
      "file_extension": ".py"
    },
    "kernelspec": {
      "name": "python3",
      "language": "python",
      "display_name": "Python 3"
    },
    "nteract": {
      "version": "0.12.3"
    }
  },
  "nbformat": 4,
  "nbformat_minor": 4
}